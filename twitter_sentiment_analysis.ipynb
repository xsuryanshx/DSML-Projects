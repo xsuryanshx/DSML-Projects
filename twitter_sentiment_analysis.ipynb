{
  "nbformat": 4,
  "nbformat_minor": 0,
  "metadata": {
    "colab": {
      "name": "twitter sentiment analysis.ipynb",
      "provenance": [],
      "collapsed_sections": [],
      "authorship_tag": "ABX9TyPwMFXc0eJaZOHstL9rcw56",
      "include_colab_link": true
    },
    "kernelspec": {
      "name": "python3",
      "display_name": "Python 3"
    },
    "accelerator": "GPU"
  },
  "cells": [
    {
      "cell_type": "markdown",
      "metadata": {
        "id": "view-in-github",
        "colab_type": "text"
      },
      "source": [
        "<a href=\"https://colab.research.google.com/github/xsuryanshx/DSML-Projects/blob/main/twitter_sentiment_analysis.ipynb\" target=\"_parent\"><img src=\"https://colab.research.google.com/assets/colab-badge.svg\" alt=\"Open In Colab\"/></a>"
      ]
    },
    {
      "cell_type": "code",
      "metadata": {
        "id": "OfgHN2sdF-Bz"
      },
      "source": [
        "! pip install -q kaggle"
      ],
      "execution_count": null,
      "outputs": []
    },
    {
      "cell_type": "code",
      "metadata": {
        "colab": {
          "resources": {
            "http://localhost:8080/nbextensions/google.colab/files.js": {
              "data": "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",
              "ok": true,
              "headers": [
                [
                  "content-type",
                  "application/javascript"
                ]
              ],
              "status": 200,
              "status_text": "OK"
            }
          },
          "base_uri": "https://localhost:8080/",
          "height": 92
        },
        "id": "h0W-QRTKGSwv",
        "outputId": "72f70c27-f8a7-4513-8066-c443c9e925ec"
      },
      "source": [
        "from google.colab import files \n",
        "files.upload()"
      ],
      "execution_count": null,
      "outputs": [
        {
          "output_type": "display_data",
          "data": {
            "text/html": [
              "\n",
              "     <input type=\"file\" id=\"files-484b44d6-e166-459f-ac02-92d73be91e48\" name=\"files[]\" multiple disabled\n",
              "        style=\"border:none\" />\n",
              "     <output id=\"result-484b44d6-e166-459f-ac02-92d73be91e48\">\n",
              "      Upload widget is only available when the cell has been executed in the\n",
              "      current browser session. Please rerun this cell to enable.\n",
              "      </output>\n",
              "      <script src=\"/nbextensions/google.colab/files.js\"></script> "
            ],
            "text/plain": [
              "<IPython.core.display.HTML object>"
            ]
          },
          "metadata": {
            "tags": []
          }
        },
        {
          "output_type": "stream",
          "text": [
            "Saving kaggle.json to kaggle.json\n"
          ],
          "name": "stdout"
        },
        {
          "output_type": "execute_result",
          "data": {
            "text/plain": [
              "{'kaggle.json': b'{\"username\":\"suryanshsr\",\"key\":\"a9a0543bcc3ada9effac39fbb85aa675\"}'}"
            ]
          },
          "metadata": {
            "tags": []
          },
          "execution_count": 2
        }
      ]
    },
    {
      "cell_type": "code",
      "metadata": {
        "id": "8voAtwo8G-jJ"
      },
      "source": [
        "! mkdir ~/.kaggle "
      ],
      "execution_count": null,
      "outputs": []
    },
    {
      "cell_type": "code",
      "metadata": {
        "id": "-VlR69xLHQvG"
      },
      "source": [
        "! cp kaggle.json ~/.kaggle/"
      ],
      "execution_count": null,
      "outputs": []
    },
    {
      "cell_type": "code",
      "metadata": {
        "id": "MXb4Up7QHWTU"
      },
      "source": [
        "! chmod 600 ~/.kaggle/kaggle.json"
      ],
      "execution_count": null,
      "outputs": []
    },
    {
      "cell_type": "code",
      "metadata": {
        "colab": {
          "base_uri": "https://localhost:8080/"
        },
        "id": "PByYPQDAF_UN",
        "outputId": "bc4d2a94-bbeb-45e9-dcb3-44068f47d282"
      },
      "source": [
        "!kaggle competitions download -c nnfl-nlp-lab-2"
      ],
      "execution_count": null,
      "outputs": [
        {
          "output_type": "stream",
          "text": [
            "Warning: Looks like you're using an outdated API Version, please consider updating (server 1.5.9 / client 1.5.4)\n",
            "Downloading lab2_sample.csv to /content\n",
            "  0% 0.00/905k [00:00<?, ?B/s]\n",
            "100% 905k/905k [00:00<00:00, 59.3MB/s]\n",
            "Downloading lab2_test.csv.zip to /content\n",
            "  0% 0.00/3.72M [00:00<?, ?B/s]\n",
            "100% 3.72M/3.72M [00:00<00:00, 123MB/s]\n",
            "Downloading lab2_train.csv.zip to /content\n",
            "100% 8.74M/8.74M [00:00<00:00, 24.0MB/s]\n",
            "\n"
          ],
          "name": "stdout"
        }
      ]
    },
    {
      "cell_type": "code",
      "metadata": {
        "id": "_LNwV1c6GLYO"
      },
      "source": [
        "import tensorflow as tf\n",
        "from tensorflow import keras\n",
        "from sklearn.model_selection import train_test_split\n",
        "from sklearn.preprocessing import StandardScaler\n",
        "import pandas as pd\n",
        "import numpy as np\n",
        "import nltk\n",
        "from nltk.corpus import stopwords\n",
        "\n",
        "from sklearn.feature_extraction.text import CountVectorizer\n",
        "from keras.preprocessing.text import Tokenizer\n",
        "from keras.preprocessing.sequence import pad_sequences\n",
        "from keras.models import Model\n",
        "from keras.layers import Dense, Embedding, LSTM, Input\n",
        "from keras.utils.np_utils import to_categorical\n",
        "import re"
      ],
      "execution_count": null,
      "outputs": []
    },
    {
      "cell_type": "code",
      "metadata": {
        "colab": {
          "base_uri": "https://localhost:8080/",
          "height": 262
        },
        "id": "QySSZ0WNHods",
        "outputId": "672c3198-87f7-40ff-98fe-7ddc8ef938be"
      },
      "source": [
        "data = pd.read_csv('/content/lab2_train.csv.zip')\n",
        "pd.set_option('display.max_colwidth',-1)\n",
        "data.head()"
      ],
      "execution_count": null,
      "outputs": [
        {
          "output_type": "stream",
          "text": [
            "/usr/local/lib/python3.6/dist-packages/ipykernel_launcher.py:2: FutureWarning: Passing a negative integer is deprecated in version 1.0 and will not be supported in future version. Instead, use None to not limit the column width.\n",
            "  \n"
          ],
          "name": "stderr"
        },
        {
          "output_type": "execute_result",
          "data": {
            "text/html": [
              "<div>\n",
              "<style scoped>\n",
              "    .dataframe tbody tr th:only-of-type {\n",
              "        vertical-align: middle;\n",
              "    }\n",
              "\n",
              "    .dataframe tbody tr th {\n",
              "        vertical-align: top;\n",
              "    }\n",
              "\n",
              "    .dataframe thead th {\n",
              "        text-align: right;\n",
              "    }\n",
              "</style>\n",
              "<table border=\"1\" class=\"dataframe\">\n",
              "  <thead>\n",
              "    <tr style=\"text-align: right;\">\n",
              "      <th></th>\n",
              "      <th>target</th>\n",
              "      <th>text</th>\n",
              "      <th>id</th>\n",
              "    </tr>\n",
              "  </thead>\n",
              "  <tbody>\n",
              "    <tr>\n",
              "      <th>0</th>\n",
              "      <td>0</td>\n",
              "      <td>awwww i fell asleep on the game  but i hear the Cavs win darn!</td>\n",
              "      <td>243624</td>\n",
              "    </tr>\n",
              "    <tr>\n",
              "      <th>1</th>\n",
              "      <td>1</td>\n",
              "      <td>Pizza &amp;amp; chippies in oven. Malibu &amp;amp; juice in hand. Winchester Bros abt 2 b on my computah screen. Can you can WIN, boys &amp;amp; girls?</td>\n",
              "      <td>319931</td>\n",
              "    </tr>\n",
              "    <tr>\n",
              "      <th>2</th>\n",
              "      <td>1</td>\n",
              "      <td>bought to much stuff at Lush...smell like some fruit-chocolate-herbs-mixed candy bar</td>\n",
              "      <td>119994</td>\n",
              "    </tr>\n",
              "    <tr>\n",
              "      <th>3</th>\n",
              "      <td>1</td>\n",
              "      <td>sending out emails about Mountain Avenue Bridal having a huge Sample Sale this weekend!</td>\n",
              "      <td>89653</td>\n",
              "    </tr>\n",
              "    <tr>\n",
              "      <th>4</th>\n",
              "      <td>1</td>\n",
              "      <td>Quite doubtful wisdom</td>\n",
              "      <td>70245</td>\n",
              "    </tr>\n",
              "  </tbody>\n",
              "</table>\n",
              "</div>"
            ],
            "text/plain": [
              "   target  ...      id\n",
              "0  0       ...  243624\n",
              "1  1       ...  319931\n",
              "2  1       ...  119994\n",
              "3  1       ...  89653 \n",
              "4  1       ...  70245 \n",
              "\n",
              "[5 rows x 3 columns]"
            ]
          },
          "metadata": {
            "tags": []
          },
          "execution_count": 8
        }
      ]
    },
    {
      "cell_type": "code",
      "metadata": {
        "colab": {
          "base_uri": "https://localhost:8080/"
        },
        "id": "rtz4nuFDHumx",
        "outputId": "cb6c5c56-ec85-4d47-c669-34596566ef0b"
      },
      "source": [
        "len(data)"
      ],
      "execution_count": null,
      "outputs": [
        {
          "output_type": "execute_result",
          "data": {
            "text/plain": [
              "224000"
            ]
          },
          "metadata": {
            "tags": []
          },
          "execution_count": 9
        }
      ]
    },
    {
      "cell_type": "code",
      "metadata": {
        "colab": {
          "base_uri": "https://localhost:8080/"
        },
        "id": "PE7UlVf4I5H_",
        "outputId": "4e0abb9b-31cf-48ec-9d1d-1b910f7d4c86"
      },
      "source": [
        "!wget https://github.com/kmr0877/IMDB-Sentiment-Classification-CBOW-Model/raw/master/glove.6B.50d.txt.gz"
      ],
      "execution_count": null,
      "outputs": [
        {
          "output_type": "stream",
          "text": [
            "--2020-11-20 19:48:47--  https://github.com/kmr0877/IMDB-Sentiment-Classification-CBOW-Model/raw/master/glove.6B.50d.txt.gz\n",
            "Resolving github.com (github.com)... 192.30.255.113\n",
            "Connecting to github.com (github.com)|192.30.255.113|:443... connected.\n",
            "HTTP request sent, awaiting response... 302 Found\n",
            "Location: https://raw.githubusercontent.com/kmr0877/IMDB-Sentiment-Classification-CBOW-Model/master/glove.6B.50d.txt.gz [following]\n",
            "--2020-11-20 19:48:47--  https://raw.githubusercontent.com/kmr0877/IMDB-Sentiment-Classification-CBOW-Model/master/glove.6B.50d.txt.gz\n",
            "Resolving raw.githubusercontent.com (raw.githubusercontent.com)... 151.101.0.133, 151.101.64.133, 151.101.128.133, ...\n",
            "Connecting to raw.githubusercontent.com (raw.githubusercontent.com)|151.101.0.133|:443... connected.\n",
            "HTTP request sent, awaiting response... 200 OK\n",
            "Length: 69182520 (66M) [application/octet-stream]\n",
            "Saving to: ‘glove.6B.50d.txt.gz’\n",
            "\n",
            "glove.6B.50d.txt.gz 100%[===================>]  65.98M   157MB/s    in 0.4s    \n",
            "\n",
            "2020-11-20 19:48:49 (157 MB/s) - ‘glove.6B.50d.txt.gz’ saved [69182520/69182520]\n",
            "\n"
          ],
          "name": "stdout"
        }
      ]
    },
    {
      "cell_type": "code",
      "metadata": {
        "id": "m9XwJr1hJLHP"
      },
      "source": [
        "! gunzip glove.6B.50d.txt.gz"
      ],
      "execution_count": null,
      "outputs": []
    },
    {
      "cell_type": "code",
      "metadata": {
        "id": "GzH7WZuYH9bL"
      },
      "source": [
        "def read_glove_vecs(glove_file):\n",
        "      with open(glove_file, 'r') as f:\n",
        "          words = set()         # ensures unique values\n",
        "          word_to_vec_map = {}  # this will be a dictionary mapping words to their vectors\n",
        "          for line in f:\n",
        "              line = line.strip().split()\n",
        "              curr_word = line[0]\n",
        "              words.add(curr_word)\n",
        "              word_to_vec_map[curr_word] = np.array(line[1:], dtype=np.float64)\n",
        "          \n",
        "          i = 1\n",
        "          words_to_index = {}   # dictionary mapping words to their index in the dictionary\n",
        "          index_to_words = {}   # dictionary mapping index to the word in the dictionary\n",
        "          for w in sorted(words):\n",
        "              words_to_index[w] = i\n",
        "              index_to_words[i] = w\n",
        "              i = i + 1\n",
        "      return words_to_index, index_to_words, word_to_vec_map,words\n",
        "word_to_index, index_to_word, word_to_vec_map,words = read_glove_vecs('/content/glove.6B.50d.txt') # alloting the index and words and vectors\n"
      ],
      "execution_count": null,
      "outputs": []
    },
    {
      "cell_type": "code",
      "metadata": {
        "colab": {
          "base_uri": "https://localhost:8080/"
        },
        "id": "26H1G24bJuLb",
        "outputId": "5a7e4910-b57b-4fd9-b1ab-6827a279efe4"
      },
      "source": [
        "len(words)"
      ],
      "execution_count": null,
      "outputs": [
        {
          "output_type": "execute_result",
          "data": {
            "text/plain": [
              "400000"
            ]
          },
          "metadata": {
            "tags": []
          },
          "execution_count": 13
        }
      ]
    },
    {
      "cell_type": "code",
      "metadata": {
        "colab": {
          "base_uri": "https://localhost:8080/"
        },
        "id": "7X5xBV8dKH4X",
        "outputId": "46cc2146-b757-4a87-a60b-a738096070b9"
      },
      "source": [
        "corpus = []\n",
        "for i in data['text']:\n",
        "  word_vec = np.zeros((np.shape(word_to_vec_map['word'])))\n",
        "  i = re.sub('[^a-zA-Z]', ' ',i)\n",
        "  for j in i.split():\n",
        "    try:\n",
        "      word_vec += word_to_vec_map[j]\n",
        "    except:\n",
        "      None\n",
        "  corpus.append(word_vec)\n",
        "len(corpus)"
      ],
      "execution_count": null,
      "outputs": [
        {
          "output_type": "execute_result",
          "data": {
            "text/plain": [
              "224000"
            ]
          },
          "metadata": {
            "tags": []
          },
          "execution_count": 14
        }
      ]
    },
    {
      "cell_type": "code",
      "metadata": {
        "colab": {
          "base_uri": "https://localhost:8080/"
        },
        "id": "YnFSAM_YOfme",
        "outputId": "71fa995e-19e7-442a-cbba-b8439bb212af"
      },
      "source": [
        "x = np.array(corpus)\n",
        "y = np.array(data['target'])\n",
        "print(np.shape(x))\n",
        "print(np.shape(y))"
      ],
      "execution_count": null,
      "outputs": [
        {
          "output_type": "stream",
          "text": [
            "(224000, 50)\n",
            "(224000,)\n"
          ],
          "name": "stdout"
        }
      ]
    },
    {
      "cell_type": "code",
      "metadata": {
        "colab": {
          "base_uri": "https://localhost:8080/"
        },
        "id": "76-ISaimPtbl",
        "outputId": "a5a933f3-9a52-44f2-9b98-f77936a309ef"
      },
      "source": [
        "model = keras.Sequential([\n",
        "    keras.layers.Flatten(input_shape=(50,)),\n",
        "    keras.layers.Dense(128, activation=tf.nn.relu),\n",
        "\t  keras.layers.Dense(64, activation=tf.nn.relu),\n",
        "    keras.layers.Dropout(0.2),\n",
        "    keras.layers.Dense(32, activation=tf.nn.relu),\n",
        "    keras.layers.Dense(1, activation=tf.nn.sigmoid),\n",
        "])\n",
        "model.summary()\n",
        "model.compile(optimizer='adam',\n",
        "              loss='binary_crossentropy',\n",
        "              metrics=['accuracy'])\n",
        "\n",
        "history = model.fit(x, y, epochs=300, batch_size=128)"
      ],
      "execution_count": null,
      "outputs": [
        {
          "output_type": "stream",
          "text": [
            "Model: \"sequential_6\"\n",
            "_________________________________________________________________\n",
            "Layer (type)                 Output Shape              Param #   \n",
            "=================================================================\n",
            "flatten_7 (Flatten)          (None, 50)                0         \n",
            "_________________________________________________________________\n",
            "dense_22 (Dense)             (None, 128)               6528      \n",
            "_________________________________________________________________\n",
            "dense_23 (Dense)             (None, 64)                8256      \n",
            "_________________________________________________________________\n",
            "dropout_5 (Dropout)          (None, 64)                0         \n",
            "_________________________________________________________________\n",
            "dense_24 (Dense)             (None, 32)                2080      \n",
            "_________________________________________________________________\n",
            "dense_25 (Dense)             (None, 1)                 33        \n",
            "=================================================================\n",
            "Total params: 16,897\n",
            "Trainable params: 16,897\n",
            "Non-trainable params: 0\n",
            "_________________________________________________________________\n",
            "Epoch 1/100\n",
            "7000/7000 [==============================] - 13s 2ms/step - loss: 0.6170 - accuracy: 0.6619\n",
            "Epoch 2/100\n",
            "7000/7000 [==============================] - 13s 2ms/step - loss: 0.5933 - accuracy: 0.6830\n",
            "Epoch 3/100\n",
            "7000/7000 [==============================] - 13s 2ms/step - loss: 0.5862 - accuracy: 0.6869\n",
            "Epoch 4/100\n",
            "7000/7000 [==============================] - 13s 2ms/step - loss: 0.5813 - accuracy: 0.6915\n",
            "Epoch 5/100\n",
            "7000/7000 [==============================] - 14s 2ms/step - loss: 0.5783 - accuracy: 0.6932\n",
            "Epoch 6/100\n",
            "7000/7000 [==============================] - 13s 2ms/step - loss: 0.5754 - accuracy: 0.6957\n",
            "Epoch 7/100\n",
            "7000/7000 [==============================] - 13s 2ms/step - loss: 0.5730 - accuracy: 0.6973\n",
            "Epoch 8/100\n",
            "7000/7000 [==============================] - 13s 2ms/step - loss: 0.5703 - accuracy: 0.6992\n",
            "Epoch 9/100\n",
            "7000/7000 [==============================] - 13s 2ms/step - loss: 0.5681 - accuracy: 0.7004\n",
            "Epoch 10/100\n",
            "7000/7000 [==============================] - 13s 2ms/step - loss: 0.5659 - accuracy: 0.7024\n",
            "Epoch 11/100\n",
            "7000/7000 [==============================] - 13s 2ms/step - loss: 0.5643 - accuracy: 0.7035\n",
            "Epoch 12/100\n",
            "7000/7000 [==============================] - 13s 2ms/step - loss: 0.5623 - accuracy: 0.7048\n",
            "Epoch 13/100\n",
            "7000/7000 [==============================] - 13s 2ms/step - loss: 0.5612 - accuracy: 0.7052\n",
            "Epoch 14/100\n",
            "7000/7000 [==============================] - 13s 2ms/step - loss: 0.5602 - accuracy: 0.7069\n",
            "Epoch 15/100\n",
            "7000/7000 [==============================] - 13s 2ms/step - loss: 0.5583 - accuracy: 0.7074\n",
            "Epoch 16/100\n",
            "7000/7000 [==============================] - 13s 2ms/step - loss: 0.5573 - accuracy: 0.7089\n",
            "Epoch 17/100\n",
            "7000/7000 [==============================] - 14s 2ms/step - loss: 0.5556 - accuracy: 0.7096\n",
            "Epoch 18/100\n",
            "7000/7000 [==============================] - 14s 2ms/step - loss: 0.5548 - accuracy: 0.7107\n",
            "Epoch 19/100\n",
            "7000/7000 [==============================] - 13s 2ms/step - loss: 0.5535 - accuracy: 0.7121\n",
            "Epoch 20/100\n",
            "7000/7000 [==============================] - 13s 2ms/step - loss: 0.5528 - accuracy: 0.7114\n",
            "Epoch 21/100\n",
            "7000/7000 [==============================] - 13s 2ms/step - loss: 0.5515 - accuracy: 0.7129\n",
            "Epoch 22/100\n",
            "7000/7000 [==============================] - 13s 2ms/step - loss: 0.5503 - accuracy: 0.7138\n",
            "Epoch 23/100\n",
            "7000/7000 [==============================] - 13s 2ms/step - loss: 0.5494 - accuracy: 0.7141\n",
            "Epoch 24/100\n",
            "7000/7000 [==============================] - 13s 2ms/step - loss: 0.5488 - accuracy: 0.7148\n",
            "Epoch 25/100\n",
            "7000/7000 [==============================] - 13s 2ms/step - loss: 0.5481 - accuracy: 0.7152\n",
            "Epoch 26/100\n",
            "7000/7000 [==============================] - 13s 2ms/step - loss: 0.5469 - accuracy: 0.7152\n",
            "Epoch 27/100\n",
            "7000/7000 [==============================] - 13s 2ms/step - loss: 0.5463 - accuracy: 0.7153\n",
            "Epoch 28/100\n",
            "7000/7000 [==============================] - 14s 2ms/step - loss: 0.5453 - accuracy: 0.7168\n",
            "Epoch 29/100\n",
            "7000/7000 [==============================] - 13s 2ms/step - loss: 0.5454 - accuracy: 0.7163\n",
            "Epoch 30/100\n",
            "7000/7000 [==============================] - 13s 2ms/step - loss: 0.5444 - accuracy: 0.7171\n",
            "Epoch 31/100\n",
            "7000/7000 [==============================] - 14s 2ms/step - loss: 0.5434 - accuracy: 0.7188\n",
            "Epoch 32/100\n",
            "7000/7000 [==============================] - 13s 2ms/step - loss: 0.5432 - accuracy: 0.7187\n",
            "Epoch 33/100\n",
            "7000/7000 [==============================] - 13s 2ms/step - loss: 0.5423 - accuracy: 0.7188\n",
            "Epoch 34/100\n",
            "7000/7000 [==============================] - 13s 2ms/step - loss: 0.5417 - accuracy: 0.7191\n",
            "Epoch 35/100\n",
            "7000/7000 [==============================] - 13s 2ms/step - loss: 0.5417 - accuracy: 0.7187\n",
            "Epoch 36/100\n",
            "7000/7000 [==============================] - 13s 2ms/step - loss: 0.5403 - accuracy: 0.7201\n",
            "Epoch 37/100\n",
            "7000/7000 [==============================] - 13s 2ms/step - loss: 0.5402 - accuracy: 0.7202\n",
            "Epoch 38/100\n",
            "7000/7000 [==============================] - 13s 2ms/step - loss: 0.5394 - accuracy: 0.7204\n",
            "Epoch 39/100\n",
            "7000/7000 [==============================] - 13s 2ms/step - loss: 0.5389 - accuracy: 0.7205\n",
            "Epoch 40/100\n",
            "7000/7000 [==============================] - 13s 2ms/step - loss: 0.5384 - accuracy: 0.7210\n",
            "Epoch 41/100\n",
            "7000/7000 [==============================] - 14s 2ms/step - loss: 0.5383 - accuracy: 0.7217\n",
            "Epoch 42/100\n",
            "7000/7000 [==============================] - 14s 2ms/step - loss: 0.5375 - accuracy: 0.7217\n",
            "Epoch 43/100\n",
            "7000/7000 [==============================] - 13s 2ms/step - loss: 0.5372 - accuracy: 0.7212\n",
            "Epoch 44/100\n",
            "7000/7000 [==============================] - 13s 2ms/step - loss: 0.5369 - accuracy: 0.7220\n",
            "Epoch 45/100\n",
            "7000/7000 [==============================] - 13s 2ms/step - loss: 0.5368 - accuracy: 0.7223\n",
            "Epoch 46/100\n",
            "7000/7000 [==============================] - 13s 2ms/step - loss: 0.5356 - accuracy: 0.7234\n",
            "Epoch 47/100\n",
            "7000/7000 [==============================] - 13s 2ms/step - loss: 0.5349 - accuracy: 0.7235\n",
            "Epoch 48/100\n",
            "7000/7000 [==============================] - 13s 2ms/step - loss: 0.5354 - accuracy: 0.7225\n",
            "Epoch 49/100\n",
            "7000/7000 [==============================] - 13s 2ms/step - loss: 0.5346 - accuracy: 0.7237\n",
            "Epoch 50/100\n",
            "7000/7000 [==============================] - 13s 2ms/step - loss: 0.5337 - accuracy: 0.7245\n",
            "Epoch 51/100\n",
            "7000/7000 [==============================] - 14s 2ms/step - loss: 0.5338 - accuracy: 0.7239\n",
            "Epoch 52/100\n",
            "7000/7000 [==============================] - 13s 2ms/step - loss: 0.5336 - accuracy: 0.7245\n",
            "Epoch 53/100\n",
            "7000/7000 [==============================] - 14s 2ms/step - loss: 0.5327 - accuracy: 0.7248\n",
            "Epoch 54/100\n",
            "7000/7000 [==============================] - 13s 2ms/step - loss: 0.5324 - accuracy: 0.7252\n",
            "Epoch 55/100\n",
            "7000/7000 [==============================] - 13s 2ms/step - loss: 0.5327 - accuracy: 0.7250\n",
            "Epoch 56/100\n",
            "7000/7000 [==============================] - 13s 2ms/step - loss: 0.5320 - accuracy: 0.7255\n",
            "Epoch 57/100\n",
            "7000/7000 [==============================] - 13s 2ms/step - loss: 0.5321 - accuracy: 0.7254\n",
            "Epoch 58/100\n",
            "7000/7000 [==============================] - 13s 2ms/step - loss: 0.5309 - accuracy: 0.7257\n",
            "Epoch 59/100\n",
            "7000/7000 [==============================] - 13s 2ms/step - loss: 0.5308 - accuracy: 0.7259\n",
            "Epoch 60/100\n",
            "7000/7000 [==============================] - 13s 2ms/step - loss: 0.5307 - accuracy: 0.7253\n",
            "Epoch 61/100\n",
            "7000/7000 [==============================] - 13s 2ms/step - loss: 0.5308 - accuracy: 0.7252\n",
            "Epoch 62/100\n",
            "7000/7000 [==============================] - 13s 2ms/step - loss: 0.5305 - accuracy: 0.7257\n",
            "Epoch 63/100\n",
            "7000/7000 [==============================] - 13s 2ms/step - loss: 0.5295 - accuracy: 0.7262\n",
            "Epoch 64/100\n",
            "7000/7000 [==============================] - 14s 2ms/step - loss: 0.5298 - accuracy: 0.7260\n",
            "Epoch 65/100\n",
            "7000/7000 [==============================] - 13s 2ms/step - loss: 0.5291 - accuracy: 0.7261\n",
            "Epoch 66/100\n",
            "7000/7000 [==============================] - 13s 2ms/step - loss: 0.5286 - accuracy: 0.7269\n",
            "Epoch 67/100\n",
            "7000/7000 [==============================] - 13s 2ms/step - loss: 0.5286 - accuracy: 0.7267\n",
            "Epoch 68/100\n",
            "7000/7000 [==============================] - 13s 2ms/step - loss: 0.5284 - accuracy: 0.7276\n",
            "Epoch 69/100\n",
            "7000/7000 [==============================] - 13s 2ms/step - loss: 0.5283 - accuracy: 0.7276\n",
            "Epoch 70/100\n",
            "7000/7000 [==============================] - 13s 2ms/step - loss: 0.5277 - accuracy: 0.7282\n",
            "Epoch 71/100\n",
            "7000/7000 [==============================] - 13s 2ms/step - loss: 0.5276 - accuracy: 0.7278\n",
            "Epoch 72/100\n",
            "7000/7000 [==============================] - 13s 2ms/step - loss: 0.5272 - accuracy: 0.7278\n",
            "Epoch 73/100\n",
            "7000/7000 [==============================] - 13s 2ms/step - loss: 0.5277 - accuracy: 0.7274\n",
            "Epoch 74/100\n",
            "7000/7000 [==============================] - 13s 2ms/step - loss: 0.5274 - accuracy: 0.7284\n",
            "Epoch 75/100\n",
            "7000/7000 [==============================] - 13s 2ms/step - loss: 0.5268 - accuracy: 0.7275\n",
            "Epoch 76/100\n",
            "7000/7000 [==============================] - 13s 2ms/step - loss: 0.5261 - accuracy: 0.7285\n",
            "Epoch 77/100\n",
            "7000/7000 [==============================] - 13s 2ms/step - loss: 0.5260 - accuracy: 0.7292\n",
            "Epoch 78/100\n",
            "7000/7000 [==============================] - 14s 2ms/step - loss: 0.5251 - accuracy: 0.7291\n",
            "Epoch 79/100\n",
            "7000/7000 [==============================] - 13s 2ms/step - loss: 0.5250 - accuracy: 0.7291\n",
            "Epoch 80/100\n",
            "7000/7000 [==============================] - 13s 2ms/step - loss: 0.5252 - accuracy: 0.7291\n",
            "Epoch 81/100\n",
            "7000/7000 [==============================] - 13s 2ms/step - loss: 0.5257 - accuracy: 0.7288\n",
            "Epoch 82/100\n",
            "7000/7000 [==============================] - 13s 2ms/step - loss: 0.5253 - accuracy: 0.7292\n",
            "Epoch 83/100\n",
            "7000/7000 [==============================] - 13s 2ms/step - loss: 0.5247 - accuracy: 0.7302\n",
            "Epoch 84/100\n",
            "7000/7000 [==============================] - 13s 2ms/step - loss: 0.5254 - accuracy: 0.7290\n",
            "Epoch 85/100\n",
            "7000/7000 [==============================] - 13s 2ms/step - loss: 0.5247 - accuracy: 0.7301\n",
            "Epoch 86/100\n",
            "7000/7000 [==============================] - 13s 2ms/step - loss: 0.5244 - accuracy: 0.7293\n",
            "Epoch 87/100\n",
            "7000/7000 [==============================] - 14s 2ms/step - loss: 0.5244 - accuracy: 0.7296\n",
            "Epoch 88/100\n",
            "7000/7000 [==============================] - 14s 2ms/step - loss: 0.5234 - accuracy: 0.7297\n",
            "Epoch 89/100\n",
            "7000/7000 [==============================] - 13s 2ms/step - loss: 0.5240 - accuracy: 0.7298\n",
            "Epoch 90/100\n",
            "7000/7000 [==============================] - 13s 2ms/step - loss: 0.5237 - accuracy: 0.7290\n",
            "Epoch 91/100\n",
            "7000/7000 [==============================] - 14s 2ms/step - loss: 0.5239 - accuracy: 0.7295\n",
            "Epoch 92/100\n",
            "7000/7000 [==============================] - 13s 2ms/step - loss: 0.5228 - accuracy: 0.7303\n",
            "Epoch 93/100\n",
            "7000/7000 [==============================] - 14s 2ms/step - loss: 0.5235 - accuracy: 0.7293\n",
            "Epoch 94/100\n",
            "7000/7000 [==============================] - 13s 2ms/step - loss: 0.5229 - accuracy: 0.7299\n",
            "Epoch 95/100\n",
            "7000/7000 [==============================] - 13s 2ms/step - loss: 0.5230 - accuracy: 0.7304\n",
            "Epoch 96/100\n",
            "7000/7000 [==============================] - 14s 2ms/step - loss: 0.5227 - accuracy: 0.7303\n",
            "Epoch 97/100\n",
            "7000/7000 [==============================] - 13s 2ms/step - loss: 0.5224 - accuracy: 0.7307\n",
            "Epoch 98/100\n",
            "7000/7000 [==============================] - 14s 2ms/step - loss: 0.5221 - accuracy: 0.7312\n",
            "Epoch 99/100\n",
            "7000/7000 [==============================] - 14s 2ms/step - loss: 0.5225 - accuracy: 0.7300\n",
            "Epoch 100/100\n",
            "7000/7000 [==============================] - 14s 2ms/step - loss: 0.5212 - accuracy: 0.7314\n"
          ],
          "name": "stdout"
        }
      ]
    },
    {
      "cell_type": "code",
      "metadata": {
        "colab": {
          "base_uri": "https://localhost:8080/",
          "height": 299
        },
        "id": "6kRoXXWJU3GV",
        "outputId": "7843496e-2d35-40fd-a258-1842ab3f0299"
      },
      "source": [
        "import matplotlib.pyplot as plt\n",
        "\n",
        "plt.plot(history.history['loss'])\n",
        "plt.title('loss')\n",
        "plt.show"
      ],
      "execution_count": null,
      "outputs": [
        {
          "output_type": "execute_result",
          "data": {
            "text/plain": [
              "<function matplotlib.pyplot.show>"
            ]
          },
          "metadata": {
            "tags": []
          },
          "execution_count": 64
        },
        {
          "output_type": "display_data",
          "data": {
            "image/png": "[encoded data removed]",
            "text/plain": [
              "<Figure size 432x288 with 1 Axes>"
            ]
          },
          "metadata": {
            "tags": [],
            "needs_background": "light"
          }
        }
      ]
    },
    {
      "cell_type": "code",
      "metadata": {
        "colab": {
          "base_uri": "https://localhost:8080/",
          "height": 299
        },
        "id": "y0Daxi6tXuLl",
        "outputId": "8bcbc926-b93b-4e3a-bad9-e292701b6f4a"
      },
      "source": [
        "plt.plot(history.history['accuracy'])\n",
        "plt.title('accuracy')\n",
        "plt.show"
      ],
      "execution_count": null,
      "outputs": [
        {
          "output_type": "execute_result",
          "data": {
            "text/plain": [
              "<function matplotlib.pyplot.show>"
            ]
          },
          "metadata": {
            "tags": []
          },
          "execution_count": 65
        },
        {
          "output_type": "display_data",
          "data": {
            "image/png": "[encoded data removed]",
            "text/plain": [
              "<Figure size 432x288 with 1 Axes>"
            ]
          },
          "metadata": {
            "tags": [],
            "needs_background": "light"
          }
        }
      ]
    },
    {
      "cell_type": "code",
      "metadata": {
        "id": "m91ttSJsVPe0",
        "colab": {
          "base_uri": "https://localhost:8080/",
          "height": 262
        },
        "outputId": "b1c591a2-aee0-46ab-f70e-2a11266026fe"
      },
      "source": [
        "test = pd.read_csv('/content/lab2_test.csv.zip')\n",
        "pd.set_option('display.max_colwidth',-1)\n",
        "test.head()"
      ],
      "execution_count": null,
      "outputs": [
        {
          "output_type": "stream",
          "text": [
            "/usr/local/lib/python3.6/dist-packages/ipykernel_launcher.py:2: FutureWarning: Passing a negative integer is deprecated in version 1.0 and will not be supported in future version. Instead, use None to not limit the column width.\n",
            "  \n"
          ],
          "name": "stderr"
        },
        {
          "output_type": "execute_result",
          "data": {
            "text/html": [
              "<div>\n",
              "<style scoped>\n",
              "    .dataframe tbody tr th:only-of-type {\n",
              "        vertical-align: middle;\n",
              "    }\n",
              "\n",
              "    .dataframe tbody tr th {\n",
              "        vertical-align: top;\n",
              "    }\n",
              "\n",
              "    .dataframe thead th {\n",
              "        text-align: right;\n",
              "    }\n",
              "</style>\n",
              "<table border=\"1\" class=\"dataframe\">\n",
              "  <thead>\n",
              "    <tr style=\"text-align: right;\">\n",
              "      <th></th>\n",
              "      <th>text</th>\n",
              "      <th>id</th>\n",
              "    </tr>\n",
              "  </thead>\n",
              "  <tbody>\n",
              "    <tr>\n",
              "      <th>0</th>\n",
              "      <td>@chris_d_jones Yeh applause store doesn't seem to be working</td>\n",
              "      <td>48676</td>\n",
              "    </tr>\n",
              "    <tr>\n",
              "      <th>1</th>\n",
              "      <td>@SchoolDuggery Tanya may be gone but we will be back</td>\n",
              "      <td>182034</td>\n",
              "    </tr>\n",
              "    <tr>\n",
              "      <th>2</th>\n",
              "      <td>@iphonegirl totally! except we can't ride on the sidewalk like when we were kids.  a lot more safe than on the road with crazy drivers.</td>\n",
              "      <td>166136</td>\n",
              "    </tr>\n",
              "    <tr>\n",
              "      <th>3</th>\n",
              "      <td>UX London 2009, bar Peter Merholz, seriously disappointing stuff. Most content suitable for Uni students not veteran practitioners</td>\n",
              "      <td>157505</td>\n",
              "    </tr>\n",
              "    <tr>\n",
              "      <th>4</th>\n",
              "      <td>ughh i have all these nasty ass bug bites from North Carolina on top of my bruises on my thighs... NO BUENO...no shorts for me this week</td>\n",
              "      <td>212449</td>\n",
              "    </tr>\n",
              "  </tbody>\n",
              "</table>\n",
              "</div>"
            ],
            "text/plain": [
              "                                                                                                                                        text      id\n",
              "0  @chris_d_jones Yeh applause store doesn't seem to be working                                                                               48676 \n",
              "1  @SchoolDuggery Tanya may be gone but we will be back                                                                                       182034\n",
              "2  @iphonegirl totally! except we can't ride on the sidewalk like when we were kids.  a lot more safe than on the road with crazy drivers.    166136\n",
              "3  UX London 2009, bar Peter Merholz, seriously disappointing stuff. Most content suitable for Uni students not veteran practitioners         157505\n",
              "4  ughh i have all these nasty ass bug bites from North Carolina on top of my bruises on my thighs... NO BUENO...no shorts for me this week   212449"
            ]
          },
          "metadata": {
            "tags": []
          },
          "execution_count": 66
        }
      ]
    },
    {
      "cell_type": "code",
      "metadata": {
        "colab": {
          "base_uri": "https://localhost:8080/"
        },
        "id": "hr6AltuLdzAa",
        "outputId": "2c71b151-e2ab-47bd-969b-14eb777baf96"
      },
      "source": [
        "corpus_test = []\n",
        "for i in test['text']:\n",
        "  word_vec = np.zeros((np.shape(word_to_vec_map['word'])))\n",
        "  i = re.sub('[^a-zA-Z]', ' ',i)\n",
        "  for j in i.split():\n",
        "    try:\n",
        "      word_vec += word_to_vec_map[j]\n",
        "    except:\n",
        "      None\n",
        "  corpus_test.append(word_vec)\n",
        "len(corpus_test)"
      ],
      "execution_count": null,
      "outputs": [
        {
          "output_type": "execute_result",
          "data": {
            "text/plain": [
              "96000"
            ]
          },
          "metadata": {
            "tags": []
          },
          "execution_count": 67
        }
      ]
    },
    {
      "cell_type": "code",
      "metadata": {
        "id": "ojwFM6lnfZaK"
      },
      "source": [
        "xtest = np.array(corpus_test)"
      ],
      "execution_count": null,
      "outputs": []
    },
    {
      "cell_type": "code",
      "metadata": {
        "colab": {
          "base_uri": "https://localhost:8080/"
        },
        "id": "phRWTe3BoCMU",
        "outputId": "f9a5abdf-19e9-4ea4-d105-924dc0857b17"
      },
      "source": [
        "np.shape(xtest)"
      ],
      "execution_count": null,
      "outputs": [
        {
          "output_type": "execute_result",
          "data": {
            "text/plain": [
              "(96000, 50)"
            ]
          },
          "metadata": {
            "tags": []
          },
          "execution_count": 69
        }
      ]
    },
    {
      "cell_type": "code",
      "metadata": {
        "id": "-T8ua3O-oIFE"
      },
      "source": [
        "ypredictions = model.predict_classes(xtest)"
      ],
      "execution_count": null,
      "outputs": []
    },
    {
      "cell_type": "code",
      "metadata": {
        "colab": {
          "base_uri": "https://localhost:8080/"
        },
        "id": "z49OZmMMqj0O",
        "outputId": "b8f0fda7-448b-4a32-aacd-2b5092ea7027"
      },
      "source": [
        "ypredictions"
      ],
      "execution_count": null,
      "outputs": [
        {
          "output_type": "execute_result",
          "data": {
            "text/plain": [
              "array([[0],\n",
              "       [0],\n",
              "       [0],\n",
              "       ...,\n",
              "       [0],\n",
              "       [1],\n",
              "       [1]], dtype=int32)"
            ]
          },
          "metadata": {
            "tags": []
          },
          "execution_count": 71
        }
      ]
    },
    {
      "cell_type": "code",
      "metadata": {
        "id": "ieKpq5i0rZI1"
      },
      "source": [
        "import csv\n",
        "prediction = pd.DataFrame(ypredictions, columns=['target'])\n",
        "prediction = prediction.assign( id = test['id'])\n",
        "prediction.to_csv('/content/prediction.csv')"
      ],
      "execution_count": null,
      "outputs": []
    },
    {
      "cell_type": "code",
      "metadata": {
        "colab": {
          "base_uri": "https://localhost:8080/",
          "height": 424
        },
        "id": "nJDq8Ds5OXul",
        "outputId": "41febb7f-9b37-4467-e605-10442fe7170f"
      },
      "source": [
        "prediction"
      ],
      "execution_count": null,
      "outputs": [
        {
          "output_type": "execute_result",
          "data": {
            "text/html": [
              "<div>\n",
              "<style scoped>\n",
              "    .dataframe tbody tr th:only-of-type {\n",
              "        vertical-align: middle;\n",
              "    }\n",
              "\n",
              "    .dataframe tbody tr th {\n",
              "        vertical-align: top;\n",
              "    }\n",
              "\n",
              "    .dataframe thead th {\n",
              "        text-align: right;\n",
              "    }\n",
              "</style>\n",
              "<table border=\"1\" class=\"dataframe\">\n",
              "  <thead>\n",
              "    <tr style=\"text-align: right;\">\n",
              "      <th></th>\n",
              "      <th>target</th>\n",
              "      <th>id</th>\n",
              "    </tr>\n",
              "  </thead>\n",
              "  <tbody>\n",
              "    <tr>\n",
              "      <th>0</th>\n",
              "      <td>0</td>\n",
              "      <td>48676</td>\n",
              "    </tr>\n",
              "    <tr>\n",
              "      <th>1</th>\n",
              "      <td>0</td>\n",
              "      <td>182034</td>\n",
              "    </tr>\n",
              "    <tr>\n",
              "      <th>2</th>\n",
              "      <td>0</td>\n",
              "      <td>166136</td>\n",
              "    </tr>\n",
              "    <tr>\n",
              "      <th>3</th>\n",
              "      <td>0</td>\n",
              "      <td>157505</td>\n",
              "    </tr>\n",
              "    <tr>\n",
              "      <th>4</th>\n",
              "      <td>0</td>\n",
              "      <td>212449</td>\n",
              "    </tr>\n",
              "    <tr>\n",
              "      <th>...</th>\n",
              "      <td>...</td>\n",
              "      <td>...</td>\n",
              "    </tr>\n",
              "    <tr>\n",
              "      <th>95995</th>\n",
              "      <td>1</td>\n",
              "      <td>106156</td>\n",
              "    </tr>\n",
              "    <tr>\n",
              "      <th>95996</th>\n",
              "      <td>1</td>\n",
              "      <td>152759</td>\n",
              "    </tr>\n",
              "    <tr>\n",
              "      <th>95997</th>\n",
              "      <td>0</td>\n",
              "      <td>151807</td>\n",
              "    </tr>\n",
              "    <tr>\n",
              "      <th>95998</th>\n",
              "      <td>1</td>\n",
              "      <td>81525</td>\n",
              "    </tr>\n",
              "    <tr>\n",
              "      <th>95999</th>\n",
              "      <td>1</td>\n",
              "      <td>46343</td>\n",
              "    </tr>\n",
              "  </tbody>\n",
              "</table>\n",
              "<p>96000 rows × 2 columns</p>\n",
              "</div>"
            ],
            "text/plain": [
              "       target      id\n",
              "0      0       48676 \n",
              "1      0       182034\n",
              "2      0       166136\n",
              "3      0       157505\n",
              "4      0       212449\n",
              "...   ..          ...\n",
              "95995  1       106156\n",
              "95996  1       152759\n",
              "95997  0       151807\n",
              "95998  1       81525 \n",
              "95999  1       46343 \n",
              "\n",
              "[96000 rows x 2 columns]"
            ]
          },
          "metadata": {
            "tags": []
          },
          "execution_count": 73
        }
      ]
    },
    {
      "cell_type": "code",
      "metadata": {
        "id": "3x2UOW8zS5PX"
      },
      "source": [
        ""
      ],
      "execution_count": null,
      "outputs": []
    }
  ]
}