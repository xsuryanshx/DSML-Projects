{
  "nbformat": 4,
  "nbformat_minor": 0,
  "metadata": {
    "colab": {
      "name": "sentiment classification.ipynb",
      "provenance": [],
      "authorship_tag": "ABX9TyN9tKC3sOiiM66VOO/JQe75",
      "include_colab_link": true
    },
    "kernelspec": {
      "name": "python3",
      "display_name": "Python 3"
    }
  },
  "cells": [
    {
      "cell_type": "markdown",
      "metadata": {
        "id": "view-in-github",
        "colab_type": "text"
      },
      "source": [
        "<a href=\"https://colab.research.google.com/github/xsuryanshx/DSML-Projects/blob/main/sentiment_classification.ipynb\" target=\"_parent\"><img src=\"https://colab.research.google.com/assets/colab-badge.svg\" alt=\"Open In Colab\"/></a>"
      ]
    },
    {
      "cell_type": "code",
      "metadata": {
        "id": "Kw9IsyFXiibF",
        "colab": {
          "base_uri": "https://localhost:8080/"
        },
        "outputId": "55ebedd7-2674-4190-878a-89f1364c2c62"
      },
      "source": [
        "from google.colab import drive\n",
        "drive.mount(\"/content/gdrive\")"
      ],
      "execution_count": 10,
      "outputs": [
        {
          "output_type": "stream",
          "text": [
            "Drive already mounted at /content/gdrive; to attempt to forcibly remount, call drive.mount(\"/content/gdrive\", force_remount=True).\n"
          ],
          "name": "stdout"
        }
      ]
    },
    {
      "cell_type": "code",
      "metadata": {
        "id": "lrvlAF51A9cX"
      },
      "source": [
        "import tensorflow as tf\n",
        "from tensorflow import keras\n",
        "from sklearn.model_selection import train_test_split\n",
        "from sklearn.preprocessing import StandardScaler\n",
        "import pandas as pd\n",
        "import numpy as np\n",
        "import nltk\n",
        "from nltk.corpus import stopwords\n",
        "\n",
        "from sklearn.feature_extraction.text import CountVectorizer\n",
        "from keras.preprocessing.text import Tokenizer\n",
        "from keras.preprocessing.sequence import pad_sequences\n",
        "from keras.models import Model\n",
        "from keras.layers import Dense, Embedding, LSTM, Input\n",
        "from keras.utils.np_utils import to_categorical\n",
        "import re"
      ],
      "execution_count": 25,
      "outputs": []
    },
    {
      "cell_type": "code",
      "metadata": {
        "id": "Ji4ox8dXMDVu",
        "colab": {
          "base_uri": "https://localhost:8080/",
          "height": 436
        },
        "outputId": "c7c7bf50-fea2-4f61-9000-a13d601f0c46"
      },
      "source": [
        "data = pd.read_csv('/content/gdrive/MyDrive/ML stuff/Dataset.csv')\n",
        "pd.set_option('display.max_colwidth',-1)\n",
        "data.head()"
      ],
      "execution_count": 14,
      "outputs": [
        {
          "output_type": "stream",
          "text": [
            "/usr/local/lib/python3.6/dist-packages/ipykernel_launcher.py:2: FutureWarning: Passing a negative integer is deprecated in version 1.0 and will not be supported in future version. Instead, use None to not limit the column width.\n",
            "  \n"
          ],
          "name": "stderr"
        },
        {
          "output_type": "execute_result",
          "data": {
            "text/html": [
              "<div>\n",
              "<style scoped>\n",
              "    .dataframe tbody tr th:only-of-type {\n",
              "        vertical-align: middle;\n",
              "    }\n",
              "\n",
              "    .dataframe tbody tr th {\n",
              "        vertical-align: top;\n",
              "    }\n",
              "\n",
              "    .dataframe thead th {\n",
              "        text-align: right;\n",
              "    }\n",
              "</style>\n",
              "<table border=\"1\" class=\"dataframe\">\n",
              "  <thead>\n",
              "    <tr style=\"text-align: right;\">\n",
              "      <th></th>\n",
              "      <th>text</th>\n",
              "      <th>stars</th>\n",
              "      <th>sentiment</th>\n",
              "    </tr>\n",
              "  </thead>\n",
              "  <tbody>\n",
              "    <tr>\n",
              "      <th>0</th>\n",
              "      <td>the pizza was okay not the best ive had i prefer biaggios on flamingo  fort apache the chef there can make a much better ny style pizza the pizzeria  cosmo was over priced for the quality and lack of personality in the food biaggios is a much better pick if youre going for italian  family owned home made recipes people that actually care if you like their food you dont get that at a pizzeria in a casino i dont care what you say</td>\n",
              "      <td>2</td>\n",
              "      <td>0</td>\n",
              "    </tr>\n",
              "    <tr>\n",
              "      <th>1</th>\n",
              "      <td>i love this place my fiance and i go here atleast once a week the portions are huge food is amazing i love their carne asada they have great lunch specials leticia is super nice and cares about what you think of her restaurant you have to try their cheese enchiladas too the sauce is different and amazing</td>\n",
              "      <td>5</td>\n",
              "      <td>1</td>\n",
              "    </tr>\n",
              "    <tr>\n",
              "      <th>2</th>\n",
              "      <td>terrible dry corn bread rib tips were all fat and mushy and had no flavor if you want bbq in this neighborhood go to john mulls roadkill grill trust me</td>\n",
              "      <td>1</td>\n",
              "      <td>0</td>\n",
              "    </tr>\n",
              "    <tr>\n",
              "      <th>3</th>\n",
              "      <td>back in 20052007 this place was my favorite thai place ever id go here alllll the time i never had any complaints once they started to get more known and got busy their service started to suck and their portion sizes got cut in half i have a huge problem with paying more for way less food the last time i went there i had the pork pad se ew and it tasted good but i finished my plate and was still hungry i used to know the manager here and she would greet me with a hello melissa nice to see you again diet coke  pad thai or pad se ew now a days i know she still knows me but she disregards my presence also i had asked her what was up with the new portion sizes and she had no answer for me great food but not worth the money i havent been back in over a year because i refuse to pay 1015 for dinner and still be hungry after sorry pinkaow you are not what you used to be</td>\n",
              "      <td>2</td>\n",
              "      <td>0</td>\n",
              "    </tr>\n",
              "    <tr>\n",
              "      <th>4</th>\n",
              "      <td>delicious healthy food the steak is amazing fish and pork are awesome too service is above and beyond not a bad thing to say about this place worth every penny</td>\n",
              "      <td>5</td>\n",
              "      <td>1</td>\n",
              "    </tr>\n",
              "  </tbody>\n",
              "</table>\n",
              "</div>"
            ],
            "text/plain": [
              "                                                                                                                                                                                                                                                                                                                                                                                                                                                                                                                                                                                                                                                                                                                                                                                                                                                                                                         text  ...  sentiment\n",
              "0  the pizza was okay not the best ive had i prefer biaggios on flamingo  fort apache the chef there can make a much better ny style pizza the pizzeria  cosmo was over priced for the quality and lack of personality in the food biaggios is a much better pick if youre going for italian  family owned home made recipes people that actually care if you like their food you dont get that at a pizzeria in a casino i dont care what you say                                                                                                                                                                                                                                                                                                                                                                                                                                                             ...  0        \n",
              "1  i love this place my fiance and i go here atleast once a week the portions are huge food is amazing i love their carne asada they have great lunch specials leticia is super nice and cares about what you think of her restaurant you have to try their cheese enchiladas too the sauce is different and amazing                                                                                                                                                                                                                                                                                                                                                                                                                                                                                                                                                                                           ...  1        \n",
              "2  terrible dry corn bread rib tips were all fat and mushy and had no flavor if you want bbq in this neighborhood go to john mulls roadkill grill trust me                                                                                                                                                                                                                                                                                                                                                                                                                                                                                                                                                                                                                                                                                                                                                     ...  0        \n",
              "3  back in 20052007 this place was my favorite thai place ever id go here alllll the time i never had any complaints once they started to get more known and got busy their service started to suck and their portion sizes got cut in half i have a huge problem with paying more for way less food the last time i went there i had the pork pad se ew and it tasted good but i finished my plate and was still hungry i used to know the manager here and she would greet me with a hello melissa nice to see you again diet coke  pad thai or pad se ew now a days i know she still knows me but she disregards my presence also i had asked her what was up with the new portion sizes and she had no answer for me great food but not worth the money i havent been back in over a year because i refuse to pay 1015 for dinner and still be hungry after sorry pinkaow you are not what you used to be  ...  0        \n",
              "4  delicious healthy food the steak is amazing fish and pork are awesome too service is above and beyond not a bad thing to say about this place worth every penny                                                                                                                                                                                                                                                                                                                                                                                                                                                                                                                                                                                                                                                                                                                                             ...  1        \n",
              "\n",
              "[5 rows x 3 columns]"
            ]
          },
          "metadata": {
            "tags": []
          },
          "execution_count": 14
        }
      ]
    },
    {
      "cell_type": "code",
      "metadata": {
        "colab": {
          "base_uri": "https://localhost:8080/"
        },
        "id": "XHJ7d0g9BNK0",
        "outputId": "f9705c16-ce80-4618-bae3-492ada30a588"
      },
      "source": [
        "len(data)"
      ],
      "execution_count": 13,
      "outputs": [
        {
          "output_type": "execute_result",
          "data": {
            "text/plain": [
              "10000"
            ]
          },
          "metadata": {
            "tags": []
          },
          "execution_count": 13
        }
      ]
    },
    {
      "cell_type": "code",
      "metadata": {
        "colab": {
          "base_uri": "https://localhost:8080/"
        },
        "id": "zbqPpdunD4kP",
        "outputId": "cb1ba538-4a74-476f-8876-a4177cdc13e1"
      },
      "source": [
        "tokenizer = Tokenizer()\n",
        "corpus = []\n",
        "for i in data['text']:\n",
        "  corpus.append(i)\n",
        "tokenizer.fit_on_texts(corpus)\n",
        "print(tokenizer.word_index)\n",
        "total_words = len(tokenizer.word_index)+1\n",
        "print(total_words)"
      ],
      "execution_count": 33,
      "outputs": [
        {
          "output_type": "stream",
          "text": [
           
          ],
          "name": "stdout"
        }
      ]
    },
    {
      "cell_type": "code",
      "metadata": {
        "colab": {
          "base_uri": "https://localhost:8080/"
        },
        "id": "azz9bjvYkro6",
        "outputId": "cbb1d067-4320-40ba-e2a9-42508cece042"
      },
      "source": [
        "input_sequence = []\n",
        "n = 0\n",
        "for line in corpus:\n",
        "  sequences = tokenizer.texts_to_sequences([line])[0]\n",
        "  sequences.append(data['stars'][n])\n",
        "  input_sequence.append(sequences)\n",
        "  n +=1\n",
        "max_len_seq = max(len(x)for x in input_sequence)\n",
        "print(max_len_seq)\n",
        "x = pad_sequences(input_sequence, maxlen=max_len_seq)\n",
        "y = data['sentiment']"
      ],
      "execution_count": 57,
      "outputs": [
        {
          "output_type": "stream",
          "text": [
            "968\n"
          ],
          "name": "stdout"
        }
      ]
    },
    {
      "cell_type": "code",
      "metadata": {
        "id": "1hW6XWJQC4f4"
      },
      "source": [
        "xtrain,xtest,ytrain,ytest = train_test_split(x,y,test_size=0.2)"
      ],
      "execution_count": 64,
      "outputs": []
    },
    {
      "cell_type": "code",
      "metadata": {
        "colab": {
          "base_uri": "https://localhost:8080/"
        },
        "id": "CYP4JRMDtUVy",
        "outputId": "82f7ebf7-f9a0-4882-f1e8-79ce774081af"
      },
      "source": [
        "model = tf.keras.Sequential([tf.keras.layers.Embedding(total_words,32,input_length=max_len_seq),\n",
        "              tf.keras.layers.Bidirectional(tf.keras.layers.LSTM(32)),\n",
        "              tf.keras.layers.Dense(1, activation='sigmoid')])\n",
        "\n",
        "model.compile(loss='binary_crossentropy',optimizer='adam',metrics=['accuracy'])\n",
        "model.summary()\n",
        "\n",
        "history = model.fit(xtrain, ytrain, epochs=5, batch_size=128, verbose=1)"
      ],
      "execution_count": 73,
      "outputs": [
        {
          "output_type": "stream",
          "text": [
            "Model: \"sequential_8\"\n",
            "_________________________________________________________________\n",
            "Layer (type)                 Output Shape              Param #   \n",
            "=================================================================\n",
            "embedding_8 (Embedding)      (None, 968, 32)           1007808   \n",
            "_________________________________________________________________\n",
            "bidirectional_8 (Bidirection (None, 64)                16640     \n",
            "_________________________________________________________________\n",
            "dense_14 (Dense)             (None, 1)                 65        \n",
            "=================================================================\n",
            "Total params: 1,024,513\n",
            "Trainable params: 1,024,513\n",
            "Non-trainable params: 0\n",
            "_________________________________________________________________\n",
            "Epoch 1/5\n",
            "63/63 [==============================] - 64s 1s/step - loss: 0.5756 - accuracy: 0.6779\n",
            "Epoch 2/5\n",
            "63/63 [==============================] - 65s 1s/step - loss: 0.2338 - accuracy: 0.9312\n",
            "Epoch 3/5\n",
            "63/63 [==============================] - 65s 1s/step - loss: 0.0617 - accuracy: 0.9908\n",
            "Epoch 4/5\n",
            "63/63 [==============================] - 64s 1s/step - loss: 0.0190 - accuracy: 0.9995\n",
            "Epoch 5/5\n",
            "63/63 [==============================] - 64s 1s/step - loss: 0.0091 - accuracy: 0.9999\n"
          ],
          "name": "stdout"
        }
      ]
    },
    {
      "cell_type": "code",
      "metadata": {
        "colab": {
          "base_uri": "https://localhost:8080/"
        },
        "id": "BOHZdzfx3R0E",
        "outputId": "4a773e64-bb12-4acb-e8c9-8a0dd6e47bbf"
      },
      "source": [
        "score,acc = model.evaluate(xtest,ytest,batch_size=32)\n",
        "print(acc)\n",
        "print(score)"
      ],
      "execution_count": 77,
      "outputs": [
        {
          "output_type": "stream",
          "text": [
            "63/63 [==============================] - 6s 90ms/step - loss: 0.0279 - accuracy: 0.9935\n",
            "0.9934999942779541\n",
            "0.02794794552028179\n"
          ],
          "name": "stdout"
        }
      ]
    },
    {
      "cell_type": "code",
      "metadata": {
        "id": "TVScA2dC9UTc"
      },
      "source": [
        ""
      ],
      "execution_count": null,
      "outputs": []
    }
  ]
}
